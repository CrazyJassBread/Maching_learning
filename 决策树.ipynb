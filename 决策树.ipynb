{
 "cells": [
  {
   "cell_type": "markdown",
   "metadata": {},
   "source": [
    "# 决策树自主实践与Sklearn调用\n",
    "## Part one：复现实践材料\n",
    "### 导入实验中的相关包"
   ]
  },
  {
   "cell_type": "code",
   "execution_count": 2,
   "metadata": {},
   "outputs": [],
   "source": [
    "from matplotlib.font_manager import FontProperties\n",
    "import matplotlib.pyplot as plt\n",
    "from math import log\n",
    "import operator\n",
    "import pickle"
   ]
  },
  {
   "cell_type": "markdown",
   "metadata": {},
   "source": [
    "### 2.构建简单的分类数据集"
   ]
  },
  {
   "cell_type": "code",
   "execution_count": 3,
   "metadata": {},
   "outputs": [],
   "source": [
    "def createDataSet():\n",
    "    dataSet =  [[0, 0, 0, 0, 'no'],\n",
    "                [0, 0, 0, 1, 'no'],\n",
    "                [0, 1, 0, 1, 'yes'],\n",
    "                [0, 1, 1, 0, 'yes'],\n",
    "                [0, 0, 0, 0, 'no'],\n",
    "                [1, 0, 0, 0, 'no'],\n",
    "                [1, 0, 0, 1, 'no'],\n",
    "                [1, 1, 1, 1, 'yes'],\n",
    "                [1, 0, 1, 2, 'yes'],\n",
    "                [1, 0, 1, 2, 'yes'],\n",
    "                [2, 0, 1, 2, 'yes'],\n",
    "                [2, 0, 1, 1, 'yes'],\n",
    "                [2, 1, 0, 1, 'yes'],\n",
    "                [2, 1, 0, 2, 'yes'],\n",
    "                [2, 0, 0, 0, 'no']]\n",
    "    #分类属性\n",
    "    labels = ['年龄','有工作','有自己的房子','信贷情况']\n",
    "    #返回数据集和分类属性\n",
    "    return dataSet, labels"
   ]
  },
  {
   "cell_type": "markdown",
   "metadata": {},
   "source": [
    "### 3.计算香农熵函数"
   ]
  },
  {
   "cell_type": "code",
   "execution_count": 4,
   "metadata": {},
   "outputs": [],
   "source": [
    "def calcShannonEnt(dataSet):\n",
    "    # 返回数据集的行数\n",
    "    numEntries = len(dataSet)\n",
    "    # 保存每个标签出现次数的字典\n",
    "    labelCounts = {}\n",
    "    # 对每组特征向量进行统计\n",
    "    for featVec in dataSet:\n",
    "        # 提取标签信息\n",
    "        currentLabel = featVec[-1]\n",
    "        # 如果标签没有放入统计次数的字典，则添加\n",
    "        if currentLabel not in labelCounts.keys():\n",
    "            labelCounts[currentLabel] = 0\n",
    "        # 标签计数\n",
    "        labelCounts[currentLabel] += 1\n",
    "\n",
    "    # 经验熵（香农熵）\n",
    "    shannonEnt = 0.0\n",
    "    # 计算香农熵\n",
    "    for key in labelCounts:\n",
    "        # 选择标签的概率\n",
    "        prob = float(labelCounts[key])/ numEntries\n",
    "        # 公式计算\n",
    "        shannonEnt -= prob * log(prob,2)\n",
    "\n",
    "    return shannonEnt"
   ]
  },
  {
   "cell_type": "markdown",
   "metadata": {},
   "source": [
    "### 3.5必要的工具函数"
   ]
  },
  {
   "cell_type": "code",
   "execution_count": 5,
   "metadata": {},
   "outputs": [],
   "source": [
    "def splitDataSet(dataSet, axis, value):\n",
    "    # 创建返回的数据集列表\n",
    "    retDataSet = []\n",
    "    # 遍历数据集\n",
    "    for featVec in dataSet:\n",
    "        if featVec[axis] == value:\n",
    "            # 去掉axis特征\n",
    "            reducedFeatVec = featVec[:axis]\n",
    "            reducedFeatVec.extend(featVec[axis+1:])\n",
    "            # 收集结果并返回\n",
    "            retDataSet.append(reducedFeatVec)\n",
    "    return retDataSet\n",
    "\n",
    "\n",
    "def majorityCnt(classList):\n",
    "    classCount = {}\n",
    "    for vote in classList:\n",
    "        if vote not in classCount.keys():\n",
    "            classCount[vote] = 0\n",
    "        classCount[vote] += 1\n",
    "    #根据字典的值降序排序\n",
    "    sortedClassCount = sorted(classCount.items(), key=operator.itemgetter(1), reverse=True)\n",
    "    return sortedClassCount[0][0]"
   ]
  },
  {
   "cell_type": "markdown",
   "metadata": {},
   "source": [
    "### 4.选择最优特征"
   ]
  },
  {
   "cell_type": "code",
   "execution_count": 6,
   "metadata": {},
   "outputs": [],
   "source": [
    "def choosebestFeatureToSplit(dataSet):\n",
    "    # 特征数量\n",
    "    numFeatures = len(dataSet[0]) - 1\n",
    "    # 计算数据集的香农熵\n",
    "    baseEntropy = calcShannonEnt(dataSet)\n",
    "    # 信息增益\n",
    "    bestInforGain = 0.0\n",
    "    # 最优特征的索引值\n",
    "    bestFeature = -1\n",
    "\n",
    "    # 遍历所有特征\n",
    "    for i in range(numFeatures):\n",
    "        # 获取dataSet的第i个所有特征存在featlist中\n",
    "        featList = [example[i] for example in dataSet]\n",
    "\n",
    "        # 创建set集合{}，元素不可重复\n",
    "        # 从列表中创建集合\n",
    "        uniqueVals = set(featList)\n",
    "        \n",
    "        # 经验信息熵\n",
    "        newEntropt = 0.0\n",
    "        # 计算信息增益\n",
    "        for value in uniqueVals:\n",
    "            # subDataSet 划分后的子集\n",
    "            subDataSet = splitDataSet(dataSet, i, value)\n",
    "            # 计算子集的概率\n",
    "            prob = len(subDataSet) / float(len(dataSet))\n",
    "            # 根据公式计算经验条件熵\n",
    "            newEntropt += prob * calcShannonEnt(subDataSet)\n",
    "            \n",
    "        # 信息增益\n",
    "        infoGain = baseEntropy - newEntropt\n",
    "        # 打印每个特征的信息增益\n",
    "        print(\"第%d个特征的增益为%.3f\" % (i, infoGain))\n",
    "        # 计算信息增益\n",
    "\n",
    "        if (infoGain > bestInforGain):\n",
    "            # 更新信息增益，找到最大的信息增益\n",
    "            bestInforGain = infoGain\n",
    "            # 记录信息增益最大的特征的索引值\n",
    "            bestFeature = i\n",
    "    # 返回信息增益最大的特征的索引值\n",
    "    return bestFeature"
   ]
  },
  {
   "cell_type": "markdown",
   "metadata": {},
   "source": [
    "### 5.决策树相关函数"
   ]
  },
  {
   "cell_type": "code",
   "execution_count": 7,
   "metadata": {},
   "outputs": [],
   "source": [
    "def createTree(dataSet, labels, featLabels):\n",
    "    # 取分类标签（是否放贷：yes or no）\n",
    "    classList = [example[-1] for example in dataSet]\n",
    "    # 如果类别完全相同，则停止继续划分\n",
    "    if classList.count(classList[0]) == len(classList):\n",
    "        return classList[0]\n",
    "    # 遍历完所有特征时返回出现次数最多的类标签\n",
    "    if len(dataSet[0]) == 1:\n",
    "        return majorityCnt(classList)\n",
    "        \n",
    "    # 选择最优特征\n",
    "    bestFeat = choosebestFeatureToSplit(dataSet)\n",
    "    # 最优特征的标签\n",
    "    bestFeatLabel = labels[bestFeat]\n",
    "    featLabels.append(bestFeatLabel)\n",
    "    # 根据最优特征的标签生成树\n",
    "    myTree = {bestFeatLabel:{}}\n",
    "    # 删除已经使用特征标签\n",
    "    del(labels[bestFeat])\n",
    "    # 取出最优特征的值\n",
    "    featValues = [example[bestFeat] for example in dataSet]\n",
    "    # 去掉重复的特征值\n",
    "    uniqueVals = set(featValues)\n",
    "    # 遍历特征，创建决策树\n",
    "    for value in uniqueVals:\n",
    "        myTree[bestFeatLabel][value] = createTree(splitDataSet(dataSet, bestFeat, value), labels, featLabels)\n",
    "    return myTree"
   ]
  },
  {
   "cell_type": "code",
   "execution_count": 8,
   "metadata": {},
   "outputs": [],
   "source": [
    "def getNumLeafs(myTree):\n",
    "    # 初始化叶子\n",
    "    numLeafs = 0\n",
    "    # python3中myTree.keys()返回的是dict_keys,不在是list，可以使用list()转换\n",
    "    firstStr = next(iter(myTree))\n",
    "    # 获取下一组字典\n",
    "    secondDict = myTree[firstStr]\n",
    "    for key in secondDict.keys():\n",
    "        # 测试该结点是否为字典，如果不是字典，代表此结点为叶子结点\n",
    "        if type(secondDict[key]).__name__ == 'dict':\n",
    "            numLeafs += getNumLeafs(secondDict[key])\n",
    "        else:\n",
    "            numLeafs += 1\n",
    "    return numLeafs"
   ]
  },
  {
   "cell_type": "code",
   "execution_count": 9,
   "metadata": {},
   "outputs": [],
   "source": [
    "def getTreeDepth(myTree):\n",
    "    # 初始化决策树深度\n",
    "    maxDepth = 0\n",
    "    # 获取第一个特征\n",
    "    firstStr = next(iter(myTree))\n",
    "    # 获取下一个字典\n",
    "    secondDict = myTree[firstStr]\n",
    "    for key in secondDict.keys():\n",
    "        # 测试该结点是否为字典，如果不是字典，代表此结点为叶子结点\n",
    "        if type(secondDict[key]).__name__ == 'dict':\n",
    "            thisDepth = 1 + getTreeDepth(secondDict[key])\n",
    "        else:\n",
    "            thisDepth = 1\n",
    "        if thisDepth > maxDepth:\n",
    "            maxDepth = thisDepth\n",
    "    return maxDepth"
   ]
  },
  {
   "cell_type": "code",
   "execution_count": 10,
   "metadata": {},
   "outputs": [],
   "source": [
    "def classify(inputTree, featLabels, testVec):\n",
    "    # 获取决策树结点\n",
    "    firstStr = next(iter(inputTree))\n",
    "    # 下一个字典\n",
    "    secondDict = inputTree[firstStr]\n",
    "    featIndex = featLabels.index(firstStr)\n",
    "    for key in secondDict.keys():\n",
    "        if testVec[featIndex] == key:\n",
    "            if type(secondDict[key]).__name__ == 'dict':\n",
    "                classLabel = classify(secondDict[key], featLabels, testVec)\n",
    "            else:\n",
    "                classLabel = secondDict[key]\n",
    "    return classLabel"
   ]
  },
  {
   "cell_type": "markdown",
   "metadata": {},
   "source": [
    "### 6.用pickle包存储和读取决策树"
   ]
  },
  {
   "cell_type": "code",
   "execution_count": 11,
   "metadata": {},
   "outputs": [],
   "source": [
    "def storeTree(inputTree, filename):\n",
    "    with open(filename, 'wb') as fw:\n",
    "        pickle.dump(inputTree, fw)\n",
    "\n",
    "def grabTree(filename):\n",
    "    fr = open(filename, 'rb')\n",
    "    return pickle.load(fr)"
   ]
  },
  {
   "cell_type": "markdown",
   "metadata": {},
   "source": [
    "### 7.主函数"
   ]
  },
  {
   "cell_type": "code",
   "execution_count": 12,
   "metadata": {},
   "outputs": [
    {
     "name": "stdout",
     "output_type": "stream",
     "text": [
      "第0个特征的增益为0.083\n",
      "第1个特征的增益为0.324\n",
      "第2个特征的增益为0.420\n",
      "第3个特征的增益为0.363\n",
      "第0个特征的增益为0.252\n",
      "第1个特征的增益为0.918\n",
      "第2个特征的增益为0.474\n"
     ]
    }
   ],
   "source": [
    "dataSet, features = createDataSet()\n",
    "featLabels = []\n",
    "myTree = createTree(dataSet, features, featLabels)"
   ]
  },
  {
   "cell_type": "code",
   "execution_count": 13,
   "metadata": {},
   "outputs": [
    {
     "name": "stdout",
     "output_type": "stream",
     "text": [
      "{'有自己的房子': {0: {'有工作': {0: 'no', 1: 'yes'}}, 1: 'yes'}}\n"
     ]
    }
   ],
   "source": [
    "storeTree(myTree, 'classifierStorage.txt')\n",
    "myTree = grabTree('classifierStorage.txt')\n",
    "print(myTree)"
   ]
  },
  {
   "cell_type": "code",
   "execution_count": 14,
   "metadata": {},
   "outputs": [
    {
     "name": "stdout",
     "output_type": "stream",
     "text": [
      "放贷\n",
      "{'有自己的房子': {0: {'有工作': {0: 'no', 1: 'yes'}}, 1: 'yes'}}\n",
      "第0个特征的增益为0.083\n",
      "第1个特征的增益为0.324\n",
      "第2个特征的增益为0.420\n",
      "第3个特征的增益为0.363\n",
      "最优特征索引值：2\n"
     ]
    }
   ],
   "source": [
    "testVec = [0, 1, 0, 1]\n",
    "result = classify(myTree, featLabels, testVec)\n",
    "if result == 'yes':\n",
    "    print('放贷')\n",
    "if result == 'no':\n",
    "    print('不放贷')\n",
    "print(myTree)\n",
    "print(\"最优特征索引值：\" + str(choosebestFeatureToSplit(dataSet)))"
   ]
  },
  {
   "cell_type": "markdown",
   "metadata": {},
   "source": [
    "## part two：Sklearn直接调用"
   ]
  },
  {
   "cell_type": "code",
   "execution_count": 15,
   "metadata": {},
   "outputs": [],
   "source": [
    "from sklearn.preprocessing import LabelEncoder, OneHotEncoder\n",
    "from sklearn import tree"
   ]
  },
  {
   "cell_type": "code",
   "execution_count": 16,
   "metadata": {},
   "outputs": [],
   "source": [
    "dataSet =  [[0, 0, 0, 0, 'no'],\n",
    "            [0, 0, 0, 1, 'no'],\n",
    "            [0, 1, 0, 1, 'yes'],\n",
    "            [0, 1, 1, 0, 'yes'],\n",
    "            [0, 0, 0, 0, 'no'],\n",
    "            [1, 0, 0, 0, 'no'],\n",
    "            [1, 0, 0, 1, 'no'],\n",
    "            [1, 1, 1, 1, 'yes'],\n",
    "            [1, 0, 1, 2, 'yes'],\n",
    "            [1, 0, 1, 2, 'yes'],\n",
    "            [2, 0, 1, 2, 'yes'],\n",
    "            [2, 0, 1, 1, 'yes'],\n",
    "            [2, 1, 0, 1, 'yes'],\n",
    "            [2, 1, 0, 2, 'yes'],\n",
    "            [2, 0, 0, 0, 'no']]"
   ]
  },
  {
   "cell_type": "code",
   "execution_count": 17,
   "metadata": {},
   "outputs": [],
   "source": [
    "# 提取特征和标签\n",
    "X = [row[:-1] for row in dataSet] # 特征（去掉最后⼀列）\n",
    "y = [row[-1] for row in dataSet] # ⽬标标签（最后⼀列）"
   ]
  },
  {
   "cell_type": "code",
   "execution_count": 18,
   "metadata": {},
   "outputs": [],
   "source": [
    "# ⽤ LabelEncoder 把 'no' 和 'yes' 转换为数值\n",
    "le = LabelEncoder()\n",
    "y = le.fit_transform(y) # 'no' -> 0, 'yes' -> 1"
   ]
  },
  {
   "cell_type": "code",
   "execution_count": 19,
   "metadata": {},
   "outputs": [
    {
     "name": "stdout",
     "output_type": "stream",
     "text": [
      "[1]\n"
     ]
    }
   ],
   "source": [
    "clf = tree.DecisionTreeClassifier(max_depth = 4) #创建DecisionTreeClassifier()类\n",
    "clf = clf.fit(X, y) #使⽤数据，构建决策树\n",
    "print(clf.predict([[1,1,1,0]])) #预测"
   ]
  },
  {
   "cell_type": "markdown",
   "metadata": {},
   "source": [
    "## part three: 可视化决策树"
   ]
  },
  {
   "cell_type": "markdown",
   "metadata": {},
   "source": [
    "### 1.导入用于可视化的库"
   ]
  },
  {
   "cell_type": "code",
   "execution_count": 20,
   "metadata": {},
   "outputs": [],
   "source": [
    "from sklearn.tree import DecisionTreeClassifier, plot_tree\n",
    "import matplotlib.pyplot as plt"
   ]
  },
  {
   "cell_type": "code",
   "execution_count": 26,
   "metadata": {},
   "outputs": [
    {
     "data": {
      "image/png": "[encoded data removed]",
      "text/plain": [
       "<Figure size 800x1200 with 1 Axes>"
      ]
     },
     "metadata": {},
     "output_type": "display_data"
    }
   ],
   "source": [
    "plt.figure(figsize=(8, 12))\n",
    "plot_tree(clf, filled=True)\n",
    "plt.show()"
   ]
  },
  {
   "cell_type": "markdown",
   "metadata": {},
   "source": [
    "## part four : 自助搜集表格数据并完成分类任务"
   ]
  }
 ],
 "metadata": {
  "kernelspec": {
   "display_name": "lab",
   "language": "python",
   "name": "python3"
  },
  "language_info": {
   "codemirror_mode": {
    "name": "ipython",
    "version": 3
   },
   "file_extension": ".py",
   "mimetype": "text/x-python",
   "name": "python",
   "nbconvert_exporter": "python",
   "pygments_lexer": "ipython3",
   "version": "3.12.8"
  }
 },
 "nbformat": 4,
 "nbformat_minor": 2
}
