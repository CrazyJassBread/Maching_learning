{
 "cells": [
  {
   "cell_type": "markdown",
   "id": "e934a9cd",
   "metadata": {},
   "source": [
    "# 集成学习(Ensemble Learning)\n",
    "**姓名:** 独宇涵 **邮箱:** 231880151@smail.nju.edu.cn\n",
    "\n",
    "**实验环境:** python 3.12.8\n",
    "\n",
    "## 复现材料\n",
    "实验过程中需要我们手动实现三种常见的集成学习算法（**Stacking**、**Bagging**、**AdaBoost**），下面是三种算法的代码实现\n",
    "### Stacking\n",
    "**输入:** 训练集 $D = \\{(x_1, y_1), (x_2, y_2), \\ldots, (x_m, y_m)\\};$\n",
    "\n",
    "初级学习算法 $\\mathfrak{L}_1, \\mathfrak{L}_2, \\ldots, \\mathfrak{L}_T;$\n",
    "\n",
    "次级学习算法 $\\mathfrak{L}.$\n",
    "\n",
    "**过程：**\n",
    "1. $\\text{for } t = 1, 2, \\ldots, T \\text{ do}$\n",
    "2. $h_t = \\mathfrak{L}_t(D);$\n",
    "3. $\\text{end for}$\n",
    "4. $D' = \\emptyset;$\n",
    "5. $\\text{for } i = 1, 2, \\ldots, m \\text{ do}$\n",
    "6. $\\quad \\text{for } t = 1, 2, \\ldots, T \\text{ do}$\n",
    "7. $\\quad z_{it} = h_t(x_i);$\n",
    "8. $\\quad \\text{end for}$\n",
    "9. $D' = D' \\cup ((z_{i1}, z_{i2}, \\ldots, z_{iT}), y_i);$\n",
    "10. $\\text{end for}$\n",
    "11. $h' = \\mathfrak{L}(D');$\n",
    "\n",
    "**输出：**$H(x) = h'(h_1(x), h_2(x), \\ldots, h_T(x))$"
   ]
  },
  {
   "cell_type": "code",
   "execution_count": 48,
   "id": "e6c35e31",
   "metadata": {},
   "outputs": [],
   "source": [
    "import numpy as np\n",
    "from sklearn.model_selection import KFold\n",
    "# 禁止输出警告\n",
    "import warnings\n",
    "warnings.filterwarnings(\"ignore\")\n",
    "\n",
    "np.random.seed(2025)\n",
    "def get_stacking(clf,x_train,y_train,x_test,n_folds = 10):\n",
    "    # 核心是使用交叉验证算法得到次级训练集\n",
    "    train_num, test_num = x_train.shape[0], x_test.shape[0]\n",
    "    second_level_train_set = np.zeros((train_num,))\n",
    "    second_level_test_set = np.zeros((test_num,))\n",
    "    test_nfolds_sets = np.zeros((test_num,n_folds))\n",
    "    kf = KFold(n_splits = n_folds) #将数据进行折叠\n",
    "\n",
    "    for i, (train_index, test_index) in enumerate(kf.split(x_train)):\n",
    "        x_tra, y_tra = x_train[train_index], y_train[train_index]\n",
    "        x_tst, y_tst = x_train[test_index], y_train[test_index]\n",
    "\n",
    "        clf.fit(x_tra, y_tra)\n",
    "\n",
    "        second_level_train_set[test_index] = clf.predict(x_tst)\n",
    "        test_nfolds_sets[:,i] = clf.predict(x_test)\n",
    "\n",
    "    second_level_test_set[:] = test_nfolds_sets.mean(axis = 1)\n",
    "    return second_level_train_set, second_level_test_set"
   ]
  },
  {
   "cell_type": "code",
   "execution_count": 49,
   "id": "89171706",
   "metadata": {},
   "outputs": [
    {
     "name": "stdout",
     "output_type": "stream",
     "text": [
      "Stacking Classifier Accuracy:0.9333\n"
     ]
    }
   ],
   "source": [
    "#构造初级和次级学习器\n",
    "from sklearn.ensemble import (RandomForestClassifier, AdaBoostClassifier, GradientBoostingClassifier, ExtraTreesClassifier, StackingClassifier,BaggingClassifier)\n",
    "from sklearn.svm import SVC\n",
    "from sklearn.metrics import accuracy_score\n",
    "\n",
    "rf_model = RandomForestClassifier()\n",
    "adb_model = AdaBoostClassifier()\n",
    "gdbc_model = GradientBoostingClassifier()\n",
    "et_model = ExtraTreesClassifier()\n",
    "svc_model = SVC()\n",
    "\n",
    "from sklearn.datasets import load_iris\n",
    "from sklearn.model_selection import train_test_split\n",
    "\n",
    "iris = load_iris()\n",
    "train_x,test_x,train_y,test_y = train_test_split(iris.data, iris.target, test_size = 0.2)\n",
    "train_sets = []\n",
    "test_sets = []\n",
    "base_classifiers = [rf_model, adb_model, gdbc_model, et_model, svc_model]\n",
    "\n",
    "for clf in base_classifiers:\n",
    "    train_set, test_set = get_stacking(clf, train_x, train_y, test_x)\n",
    "    train_sets.append(train_set)\n",
    "    test_sets.append(test_set)\n",
    "\n",
    "meta_train = np.concatenate([result_set.reshape(-1,1) for result_set in train_sets], axis = 1)\n",
    "meta_test = np.concatenate([result_set.reshape(-1,1) for result_set in test_sets], axis = 1)\n",
    "\n",
    "# 使用决策树作为次级分类器\n",
    "from sklearn.tree import DecisionTreeClassifier\n",
    "meta_clf = DecisionTreeClassifier()\n",
    "meta_clf.fit(meta_train,train_y)\n",
    "predict_y = meta_clf.predict(meta_test)\n",
    "\n",
    "accuracy = accuracy_score(test_y, predict_y)\n",
    "print(f\"Stacking Classifier Accuracy:{accuracy:.4f}\")"
   ]
  },
  {
   "cell_type": "markdown",
   "id": "ce4700d8",
   "metadata": {},
   "source": [
    "#### 封装为自定义类\n",
    "上面实现了简单的一个运用Stacking集成学习方法的分类器，现在将上述算法封装为自定义的类，方便后续调用函数"
   ]
  },
  {
   "cell_type": "code",
   "execution_count": 50,
   "id": "30ce5afe",
   "metadata": {},
   "outputs": [
    {
     "name": "stdout",
     "output_type": "stream",
     "text": [
      "Stacking Classifier Accuracy:0.9333\n"
     ]
    }
   ],
   "source": [
    "from sklearn.model_selection import KFold\n",
    "from sklearn.base import BaseEstimator, RegressorMixin, TransformerMixin,clone\n",
    "\n",
    "class StackingAverageModels(BaseEstimator, RegressorMixin, TransformerMixin):\n",
    "    def __init__(self, base_models,meta_model, n_folds = 5):\n",
    "        self.base_models = base_models\n",
    "        self.meta_model = meta_model\n",
    "        self.n_folds = n_folds\n",
    "\n",
    "    def fit(self, X, y): #克隆原来的model，并且实现fit功能\n",
    "        self.base_models_ = [list() for x in self.base_models]\n",
    "        self.meta_model_ = clone(self.meta_model)\n",
    "        kfold = KFold(n_splits = self.n_folds, shuffle = True, random_state = 156)\n",
    "\n",
    "        out_of_fold_predictions = np.zeros((X.shape[0], len(self.base_models)))\n",
    "        for i, model in enumerate(self.base_models):\n",
    "            for train_index, holdout_index in kfold.split(X,y):\n",
    "                instance = clone(model)\n",
    "                self.base_models_[i].append(instance)\n",
    "                instance.fit(X[train_index], y[train_index])\n",
    "                y_pred = instance.predict(X[holdout_index])\n",
    "                out_of_fold_predictions[holdout_index, i] = y_pred\n",
    "            \n",
    "        self.meta_model_.fit(out_of_fold_predictions, y)\n",
    "        return self\n",
    "    \n",
    "    def predict(self, X):\n",
    "        meta_features = np.column_stack([np.column_stack([model.predict(X) for model in base_models]).mean(axis = 1) for base_models in self.base_models_])\n",
    "        return self.meta_model_.predict(meta_features)\n",
    "        \n",
    "stacking_avg = StackingAverageModels(base_models = base_classifiers, meta_model = meta_clf)\n",
    "stacking_avg.fit(train_x, train_y)\n",
    "pred_y = stacking_avg.predict(test_x)\n",
    "accuracy = accuracy_score(test_y, pred_y)\n",
    "print(f\"Stacking Classifier Accuracy:{accuracy:.4f}\")"
   ]
  },
  {
   "cell_type": "markdown",
   "id": "a32036f9",
   "metadata": {},
   "source": [
    "### Bagging\n",
    "**输入：**\n",
    "\n",
    "训练集 $D = \\{(x_1, y_1), (x_2, y_2), \\ldots, (x_m, y_m)\\}$;\n",
    "\n",
    "基学习算法 $\\mathcal{L}$;\n",
    "    \n",
    "训练轮数 $T$.\n",
    "\n",
    "**过程：**\n",
    "\n",
    "1: for $t = 1, 2, \\ldots, T$ do\n",
    "\n",
    "2: $\\quad h_t = \\mathcal{L}(D, \\mathcal{D}_{bs})$\n",
    "\n",
    "3: end for\n",
    "\n",
    "输出：$H(x) = \\arg\\max_{y \\in \\mathcal{Y}} \\sum_{t=1}^{T} \\mathbb{I}(h_t(x) = y)$"
   ]
  },
  {
   "cell_type": "code",
   "execution_count": 51,
   "id": "a803ef47",
   "metadata": {},
   "outputs": [],
   "source": [
    "class MyBaggingClassifier:\n",
    "    def __init__(self, base_learner, n_learners):\n",
    "        self.learners = [clone(base_learner) for _ in range(n_learners)]\n",
    "\n",
    "    def fit(self,X,y):\n",
    "        for learner in self.learners:\n",
    "            examples = np.random.choice(np.arange(len(X)),int(len(X)),replace = True)\n",
    "            learner.fit(X[examples,:],y[examples])\n",
    "\n",
    "    def predict(self,X):\n",
    "        preds = [learner.predict(X) for learner in self.learners]\n",
    "        return self._aggregate(np.array(preds))\n",
    "    \n",
    "    def _aggregate(self, predictions):\n",
    "        final_pred = np.apply_along_axis(lambda x:np.bincount(x).argmax(),axis = 0, arr = predictions.astype(int))\n",
    "        return final_pred"
   ]
  },
  {
   "cell_type": "markdown",
   "id": "3178cf5e",
   "metadata": {},
   "source": [
    "### AdaBoost\n",
    "**输入：**\n",
    "    训练集 $D = \\{(x_1, y_1), (x_2, y_2), \\ldots, (x_m, y_m)\\}$；\n",
    "    基学习算法 $\\mathcal{L}$；\n",
    "    训练轮数 $T$。\n",
    "\n",
    "**过程：**\n",
    "1. $\\mathcal{D}_1(x) = 1/m$。\n",
    "2. for $t = 1, 2, \\ldots, T$ do\n",
    "3. $\\quad h_t = \\mathcal{L}(D, \\mathcal{D}_t)$;\n",
    "4. $\\quad \\epsilon_t = P_{x \\sim \\mathcal{D}_t}(h_t(x) \\neq f(x))$;\n",
    "5. $\\quad if \\epsilon_t > 0.5$ then break\n",
    "6. $\\quad \\alpha_t = \\frac{1}{2} \\ln \\left( \\frac{1 - \\epsilon_t}{\\epsilon_t} \\right)$;\n",
    "7. $\\quad \\mathcal{D}_{t+1}(x) = \\frac{\\mathcal{D}_t(x)}{Z_t} \\times \\left\\{\n",
    "\\begin{array}{ll}\n",
    "\\exp(-\\alpha_t), & \\text{if } h_t(x) = f(x) \\\\\n",
    "\\exp(\\alpha_t), & \\text{if } h_t(x) \\neq f(x)\n",
    "\\end{array}\n",
    "\\right.$\n",
    "\n",
    "$\\quad \\quad \\quad \\quad \\quad \\quad \\quad  = \\mathcal{D}_t(x) \\exp(-\\alpha_t f(x) h_t(x)) / Z_t$\n",
    "\n",
    "8. end for\n",
    "\n",
    "**输出：**$H(x) = \\text{sign} \\left( \\sum_{t=1}^{T} \\alpha_t h_t(x) \\right)$"
   ]
  },
  {
   "cell_type": "code",
   "execution_count": 52,
   "id": "ae0aea28",
   "metadata": {},
   "outputs": [],
   "source": [
    "class MyAdaBoostClassifier:\n",
    "    def __init__(self, base_learner, n_learners):\n",
    "        self.learners = [clone(base_learner) for _ in range(n_learners)]\n",
    "        self.learning_rate = 1.0\n",
    "        self.weak_classifiers = []\n",
    "\n",
    "    def fit(self, X, y):\n",
    "        sample_weights = np.ones_like(y) / len(y)\n",
    "        for clf in self.learners:\n",
    "            clf = DecisionTreeClassifier(max_depth = 1)\n",
    "            clf.fit(X, y, sample_weight=sample_weights)\n",
    "            y_pred = clf.predict(X)\n",
    "            incorrect = np.sum(sample_weights * (y != y_pred))\n",
    "            error_rate = incorrect / np.sum(sample_weights)\n",
    "            if error_rate > 0.5:\n",
    "                continue\n",
    "\n",
    "            alpha = np.log((1.0 - error_rate) / error_rate) / 2.0\n",
    "            self.weak_classifiers.append((clf, alpha))\n",
    "            sample_weights *= np.exp(-alpha * y * y_pred)\n",
    "            sample_weights /= np.sum(sample_weights)\n",
    "\n",
    "    def predict(self, X):\n",
    "        votes = np.zeros((X.shape[0],))\n",
    "        for clf, alpha in self.weak_classifiers:\n",
    "            votes += alpha * clf.predict(X)\n",
    "        return np.sign(votes)"
   ]
  },
  {
   "cell_type": "markdown",
   "id": "3a17dc3c",
   "metadata": {},
   "source": [
    "### 与sklearn的实现进行对比\n",
    "将自主实现的三种集成学习算法与sklearn库中已有的方法进行性能对比"
   ]
  },
  {
   "cell_type": "code",
   "execution_count": 53,
   "id": "270835db",
   "metadata": {},
   "outputs": [
    {
     "name": "stdout",
     "output_type": "stream",
     "text": [
      "My Stacking Classifier Accuracy: 0.9333\n",
      "Sklearn Stacking Classifier Accuracy: 0.9000\n"
     ]
    }
   ],
   "source": [
    "stacking_avg = StackingAverageModels(base_models=base_classifiers, meta_model=meta_clf)\n",
    "stacking_avg.fit(train_x, train_y)\n",
    "pred_y = stacking_avg.predict(test_x)\n",
    "accuracy = accuracy_score(test_y, pred_y)\n",
    "print(f\"My Stacking Classifier Accuracy: {accuracy:.4f}\")\n",
    "\n",
    "# base_classifier的格式与上面我们自己实现的稍有不同\n",
    "base_classifiers = [\n",
    "    ('rf', rf_model),\n",
    "    ('adb', adb_model),\n",
    "    ('gdbc', gdbc_model),\n",
    "    ('et', et_model),\n",
    "    ('svc', svc_model)\n",
    "]\n",
    "stacking_clf = StackingClassifier(estimators=base_classifiers,final_estimator=meta_clf, cv=5)\n",
    "stacking_clf.fit(train_x, train_y)\n",
    "pred_y = stacking_clf.predict(test_x)\n",
    "accuracy = accuracy_score(test_y, pred_y)\n",
    "print(f\"Sklearn Stacking Classifier Accuracy: {accuracy:.4f}\")\n"
   ]
  },
  {
   "cell_type": "code",
   "execution_count": 54,
   "id": "c40334da",
   "metadata": {},
   "outputs": [
    {
     "name": "stdout",
     "output_type": "stream",
     "text": [
      "My Bagging Classifier Accuracy: 0.9333\n",
      "Sklearn Bagging Classifier Accuracy: 0.9333\n"
     ]
    }
   ],
   "source": [
    "base_classifier = DecisionTreeClassifier()\n",
    "my_bagging_clf = MyBaggingClassifier(base_learner=base_classifier,n_learners=100)\n",
    "my_bagging_clf.fit(train_x, train_y)\n",
    "pred_y = my_bagging_clf.predict(test_x)\n",
    "accuracy = accuracy_score(test_y, pred_y)\n",
    "print(f\"My Bagging Classifier Accuracy: {accuracy:.4f}\")\n",
    "\n",
    "bagging_clf = BaggingClassifier(base_classifier,n_estimators=100,max_samples=0.5,max_features=0.5,random_state=42)\n",
    "bagging_clf.fit(train_x, train_y)\n",
    "pred_y = bagging_clf.predict(test_x)\n",
    "accuracy = accuracy_score(test_y, pred_y)\n",
    "print(f\"Sklearn Bagging Classifier Accuracy: {accuracy:.4f}\")"
   ]
  },
  {
   "cell_type": "code",
   "execution_count": 55,
   "id": "6384797d",
   "metadata": {},
   "outputs": [
    {
     "name": "stdout",
     "output_type": "stream",
     "text": [
      "My AdaBoost Classifier Accuracy: 0.8800\n",
      "Sklearn AdaBoost Classifier Accuracy: 0.8500\n"
     ]
    }
   ],
   "source": [
    "from sklearn.datasets import make_classification\n",
    "X, y = make_classification(n_samples=1000, n_features=20, n_informative=2,n_redundant=0, random_state=42)\n",
    "y = np.where(y == 0,-1, 1)\n",
    "X_train, X_test, y_train, y_test = train_test_split(X, y, test_size=0.2,random_state=42)\n",
    "dt_clf = DecisionTreeClassifier(max_depth=1)\n",
    "\n",
    "my_adaboost_clf = MyAdaBoostClassifier(dt_clf, n_learners=50)\n",
    "my_adaboost_clf.fit(X_train, y_train)\n",
    "pred_y = my_adaboost_clf.predict(X_test)\n",
    "accuracy = accuracy_score(y_test, pred_y)\n",
    "print(f\"My AdaBoost Classifier Accuracy: {accuracy:.4f}\")\n",
    "\n",
    "adaboost_clf = AdaBoostClassifier(n_estimators=50, random_state=42)\n",
    "adaboost_clf.fit(X_train, y_train)\n",
    "pred_y = adaboost_clf.predict(X_test)\n",
    "accuracy = accuracy_score(y_test, pred_y)\n",
    "print(f\"Sklearn AdaBoost Classifier Accuracy: {accuracy:.4f}\")"
   ]
  },
  {
   "cell_type": "markdown",
   "id": "37f3cb3f",
   "metadata": {},
   "source": [
    "## 自主实现可以进行三分类的AdaBoost变体算法\n",
    "这部分的实现参考了2009年的关于Multiclass AdaBoost的论文\n",
    "\n",
    "[Multiclass AdaBoost的参考资料](https://link.intlpress.com/JDetail/1806634576447516674)\n",
    "\n",
    "从最终结果图像中可以看出来，总的正确率在弱学习器数量达到50-100之间时已经到了0"
   ]
  },
  {
   "cell_type": "code",
   "execution_count": 56,
   "id": "3e995a28",
   "metadata": {},
   "outputs": [
    {
     "data": {
      "image/png": "[encoded data removed]",
      "text/plain": [
       "<Figure size 1500x500 with 3 Axes>"
      ]
     },
     "metadata": {},
     "output_type": "display_data"
    }
   ],
   "source": [
    "from sklearn.datasets import load_iris\n",
    "from sklearn.ensemble import AdaBoostClassifier\n",
    "from sklearn.metrics import accuracy_score\n",
    "from sklearn.tree import DecisionTreeClassifier\n",
    "import matplotlib.pyplot as plt\n",
    "from sklearn.model_selection import train_test_split\n",
    "\n",
    "iris = load_iris()\n",
    "X, y = iris.data, iris.target\n",
    "\n",
    "X_train, X_test, y_train, y_test = train_test_split(X, y, test_size=0.3, random_state=42)\n",
    "\n",
    "# 定义两个 AdaBoost 分类器：SAMME.R 和 SAMME\n",
    "bdt_real = AdaBoostClassifier(\n",
    "    DecisionTreeClassifier(max_depth=2),\n",
    "    n_estimators=200,\n",
    "    learning_rate=1.0)\n",
    "\n",
    "bdt_discrete = AdaBoostClassifier(\n",
    "    DecisionTreeClassifier(max_depth=2),\n",
    "    n_estimators=200,\n",
    "    learning_rate=1.0)\n",
    "\n",
    "bdt_real.fit(X_train, y_train)\n",
    "bdt_discrete.fit(X_train, y_train)\n",
    "\n",
    "# 记录测试误差\n",
    "real_test_errors = []\n",
    "discrete_test_errors = []\n",
    "\n",
    "for real_test_predict, discrete_test_predict in zip(\n",
    "        bdt_real.staged_predict(X_test), bdt_discrete.staged_predict(X_test)):\n",
    "    real_test_errors.append(1. - accuracy_score(real_test_predict, y_test))\n",
    "    discrete_test_errors.append(1. - accuracy_score(discrete_test_predict, y_test))\n",
    "\n",
    "# 提取弱分类器的错误率和权重\n",
    "n_trees_discrete = len(bdt_discrete)\n",
    "n_trees_real = len(bdt_real)\n",
    "\n",
    "discrete_estimator_errors = bdt_discrete.estimator_errors_[:n_trees_discrete]\n",
    "real_estimator_errors = bdt_real.estimator_errors_[:n_trees_real]\n",
    "discrete_estimator_weights = bdt_discrete.estimator_weights_[:n_trees_discrete]\n",
    "\n",
    "# 绘制训练过程中的误差变化图\n",
    "plt.figure(figsize=(15, 5))\n",
    "\n",
    "# 测试误差\n",
    "plt.subplot(131)\n",
    "plt.plot(range(1, n_trees_discrete + 1), discrete_test_errors, c='black', label='SAMME')\n",
    "plt.plot(range(1, n_trees_real + 1), real_test_errors, c='black', linestyle='dashed', label='SAMME.R')\n",
    "plt.legend()\n",
    "plt.ylim(0.0, 0.5)\n",
    "plt.ylabel('Test Error')\n",
    "plt.xlabel('Number of Trees')\n",
    "\n",
    "# 每棵树的错误率\n",
    "plt.subplot(132)\n",
    "plt.plot(range(1, n_trees_discrete + 1), discrete_estimator_errors, \"b\", label='SAMME', alpha=0.5)\n",
    "plt.plot(range(1, n_trees_real + 1), real_estimator_errors, \"r\", label='SAMME.R', alpha=0.5)\n",
    "plt.legend()\n",
    "plt.ylabel('Error')\n",
    "plt.xlabel('Number of Trees')\n",
    "plt.ylim((0, max(real_estimator_errors.max(), discrete_estimator_errors.max()) * 1.2))\n",
    "plt.xlim((-5, n_trees_discrete + 5))\n",
    "\n",
    "# 弱分类器权重（SAMME）\n",
    "plt.subplot(133)\n",
    "plt.plot(range(1, n_trees_discrete + 1), discrete_estimator_weights, \"b\", label='SAMME')\n",
    "plt.legend()\n",
    "plt.ylabel('Weight')\n",
    "plt.xlabel('Number of Trees')\n",
    "plt.ylim((0, discrete_estimator_weights.max() * 1.2))\n",
    "plt.xlim((-5, n_trees_discrete + 5))\n",
    "\n",
    "plt.subplots_adjust(wspace=0.3)\n",
    "plt.show()"
   ]
  },
  {
   "cell_type": "markdown",
   "id": "67918edf",
   "metadata": {},
   "source": [
    "## 测试VotingClassifier的分类效果，并且自主实现\n",
    "[参考资料](https://scikit-learn.org/stable/modules/ensemble.html#voting-classifier)\n",
    "\n",
    "VotingClassifier主要分成两类——**Majority Class Labels** 和 **Weighted Average Probabilities**\n",
    "\n",
    "**Majority Class Labels算法流程**\n",
    "- 在多数投票中，特定样本的预测类标签是代表每个单独分类器预测的类标签的大多数（模式）的类标签\n",
    "- VotingClassifier （带有 voting='hard' ）将根据多数类别标签将样本归类为“第 1 类”。\n",
    "- 如果出现平局， VotingClassifier 将根据升序选择班级\n",
    "\n",
    "**使用Sklearn的Voting Classifier(Hard)**\n",
    "\n",
    "代码如下所示"
   ]
  },
  {
   "cell_type": "code",
   "execution_count": 57,
   "id": "1fb4ddb4",
   "metadata": {},
   "outputs": [
    {
     "name": "stdout",
     "output_type": "stream",
     "text": [
      "Accuracy: 0.95 (+/- 0.04) [Logistic Regression]\n",
      "Accuracy: 0.94 (+/- 0.04) [Random Forest]\n",
      "Accuracy: 0.91 (+/- 0.04) [naive Bayes]\n",
      "Accuracy: 0.95 (+/- 0.04) [Ensemble]\n"
     ]
    }
   ],
   "source": [
    "from sklearn import datasets\n",
    "from sklearn.model_selection import cross_val_score\n",
    "from sklearn.linear_model import LogisticRegression\n",
    "from sklearn.naive_bayes import GaussianNB\n",
    "from sklearn.ensemble import RandomForestClassifier\n",
    "from sklearn.ensemble import VotingClassifier\n",
    "\n",
    "iris = datasets.load_iris()\n",
    "X, y = iris.data[:, 1:3], iris.target\n",
    "\n",
    "clf1 = LogisticRegression(random_state=1)\n",
    "clf2 = RandomForestClassifier(n_estimators=50, random_state=1)\n",
    "clf3 = GaussianNB()\n",
    "\n",
    "eclf = VotingClassifier(\n",
    "    estimators=[('lr', clf1), ('rf', clf2), ('gnb', clf3)],\n",
    "    voting='hard')\n",
    "\n",
    "for clf, label in zip([clf1, clf2, clf3, eclf], ['Logistic Regression', 'Random Forest', 'naive Bayes', 'Ensemble']):\n",
    "    scores = cross_val_score(clf, X, y, scoring='accuracy', cv=5)\n",
    "    print(\"Accuracy: %0.2f (+/- %0.2f) [%s]\" % (scores.mean(), scores.std(), label))"
   ]
  },
  {
   "cell_type": "markdown",
   "id": "330bf53c",
   "metadata": {},
   "source": [
    "**Weighted Average Probabilities算法流程**\n",
    "- 可以通过 weights 参数为每​​个分类器分配特定的权重"
   ]
  },
  {
   "cell_type": "code",
   "execution_count": 58,
   "id": "3d4b32f5",
   "metadata": {},
   "outputs": [
    {
     "name": "stdout",
     "output_type": "stream",
     "text": [
      "Voting Classifier(soft) 训练集准确率: 98.00%\n"
     ]
    }
   ],
   "source": [
    "from sklearn.tree import DecisionTreeClassifier\n",
    "from sklearn.neighbors import KNeighborsClassifier\n",
    "from sklearn.svm import SVC\n",
    "from itertools import product\n",
    "from sklearn.metrics import accuracy_score\n",
    "\n",
    "# Loading some example data\n",
    "X = iris.data[:, [0, 2]]\n",
    "y = iris.target\n",
    "\n",
    "# Training classifiers\n",
    "clf1 = DecisionTreeClassifier(max_depth=4)\n",
    "clf2 = KNeighborsClassifier(n_neighbors=7)\n",
    "clf3 = SVC(kernel='rbf', probability=True)\n",
    "eclf = VotingClassifier(estimators=[('dt', clf1), ('knn', clf2), ('svc', clf3)],\n",
    "                        voting='soft', weights=[2, 1, 2])\n",
    "\n",
    "clf1 = clf1.fit(X, y)\n",
    "clf2 = clf2.fit(X, y)\n",
    "clf3 = clf3.fit(X, y)\n",
    "eclf = eclf.fit(X, y)\n",
    "\n",
    "# 输出预测正确率\n",
    "y_pred = eclf.predict(X)\n",
    "accuracy = accuracy_score(y, y_pred)\n",
    "print(\"Voting Classifier(soft) 训练集准确率: {:.2f}%\".format(accuracy * 100))"
   ]
  },
  {
   "cell_type": "markdown",
   "id": "163bf941",
   "metadata": {},
   "source": [
    "**对于多数表决法进行自主实现**\n",
    "\n",
    "仿照前面的Bagging算法可以对fit、predict两个函数进行实现\n",
    "\n",
    "这里采用与前面相同的三种分类器（决策树、随机森林、GausssianNB）最终的预测正确率为 **97%** (sklearn的模版预测准确率为**95%**)"
   ]
  },
  {
   "cell_type": "code",
   "execution_count": 59,
   "id": "bf4065cf",
   "metadata": {},
   "outputs": [
    {
     "name": "stdout",
     "output_type": "stream",
     "text": [
      "自定义Hard Voting 分类器准确率: 0.97\n"
     ]
    }
   ],
   "source": [
    "from sklearn.base import BaseEstimator,ClassifierMixin,clone\n",
    "import numpy as np\n",
    "from scipy.stats import mode\n",
    "\n",
    "class MyHardVotingClassifier(BaseEstimator, ClassifierMixin):\n",
    "    def __init__(self, estimators):\n",
    "        \"\"\"\n",
    "        参数 estimators: list of (name, estimator) 元组如[('dt', DecisionTreeClassifier()), ('knn', KNeighborsClassifier())]\n",
    "        \"\"\"\n",
    "        self.estimators = estimators\n",
    "        self.clfs_ = []\n",
    "\n",
    "    def fit(self, X, y):\n",
    "        self.clfs_ = []\n",
    "        for name, clf in self.estimators:\n",
    "            fitted_clf = clone(clf).fit(X, y)\n",
    "            self.clfs_.append(fitted_clf)\n",
    "        return self\n",
    "\n",
    "    def predict(self, X):\n",
    "        predictions = np.asarray([clf.predict(X) for clf in self.clfs_])\n",
    "        majority_vote, _ = mode(predictions, axis=0, keepdims=False)\n",
    "        return majority_vote\n",
    "\n",
    "X, y = iris.data[:, 1:3], iris.target\n",
    "X_train, X_test, y_train, y_test = train_test_split(X, y, random_state=42)\n",
    "\n",
    "clf = MyHardVotingClassifier([\n",
    "    ('dt', DecisionTreeClassifier(max_depth=4)),\n",
    "    ('rf',  RandomForestClassifier(n_estimators=50, random_state=1)),\n",
    "    ('Gaussian', GaussianNB())\n",
    "])\n",
    "\n",
    "clf.fit(X_train, y_train)\n",
    "y_pred = clf.predict(X_test)\n",
    "acc = accuracy_score(y_test, y_pred)\n",
    "print(f\"自定义Hard Voting 分类器准确率: {acc:.2f}\")"
   ]
  },
  {
   "cell_type": "markdown",
   "id": "ab0bc092",
   "metadata": {},
   "source": [
    "## 测试GradientBoostingClassifier的分类效果，并且自主实现\n",
    "\n",
    "[参考资料一](https://scikit-learn.org/stable/modules/generated/sklearn.ensemble.GradientBoostingClassifier.html#sklearn.ensemble.GradientBoostingClassifier) AND \n",
    "[参考资料二](https://medium.com/data-science/all-you-need-to-know-about-gradient-boosting-algorithm-part-2-classification-d3ed8f56541e) AND \n",
    "[参考资料三](https://www.digitalocean.com/community/tutorials/gradient-boosting-for-classification)\n",
    "\n",
    "梯度提升有三个主要组成部分：**Loss Function**、**Weak Learner**、**Additive Model**\n",
    "\n",
    "**算法流程**\n",
    "\n",
    "- 开始 → 初始化F(x)\n",
    "- 计算残差（y - p）→ 用残差训练新模型 → 累加模型输出\n",
    "- 重复直到 n_estimators 次\n",
    "- 最终用 softmax(F(x)) → 得出预测类别"
   ]
  },
  {
   "cell_type": "code",
   "execution_count": 60,
   "id": "94798b32",
   "metadata": {},
   "outputs": [
    {
     "data": {
      "text/plain": [
       "0.9555555555555556"
      ]
     },
     "execution_count": 60,
     "metadata": {},
     "output_type": "execute_result"
    }
   ],
   "source": [
    "from sklearn.datasets import make_hastie_10_2\n",
    "from sklearn.ensemble import GradientBoostingClassifier\n",
    "\n",
    "X, y = iris.data, iris.target\n",
    "\n",
    "X_train, X_test, y_train, y_test = train_test_split(X, y, test_size=0.3, random_state=42)\n",
    "\n",
    "clf = GradientBoostingClassifier(n_estimators=100, learning_rate=1.0,max_depth=1, random_state=0).fit(X_train, y_train)\n",
    "clf.score(X_test, y_test)"
   ]
  },
  {
   "cell_type": "code",
   "execution_count": 61,
   "id": "05ef348b",
   "metadata": {},
   "outputs": [
    {
     "name": "stdout",
     "output_type": "stream",
     "text": [
      "自定义Gradient Boost 分类器准确率: 0.97\n"
     ]
    }
   ],
   "source": [
    "from sklearn.tree import DecisionTreeRegressor\n",
    "from sklearn.preprocessing import LabelBinarizer\n",
    "from sklearn.metrics import accuracy_score\n",
    "class MyGradientBoostClassifier(BaseEstimator, ClassifierMixin):\n",
    "    def __init__(self, base_estimator=None, n_estimators=100, learning_rate=0.1):\n",
    "        self.base_estimator = base_estimator if base_estimator is not None else DecisionTreeRegressor(max_depth=1)\n",
    "        self.n_estimators = n_estimators\n",
    "        self.learning_rate = learning_rate\n",
    "        self.estimators_ = []\n",
    "        self.classes_ = None\n",
    "\n",
    "    def fit(self, X, y):\n",
    "        self.classes_ = np.unique(y)\n",
    "        lb = LabelBinarizer()\n",
    "        Y = lb.fit_transform(y)\n",
    "\n",
    "        if Y.shape[1] == 1:\n",
    "            Y = np.hstack((1 - Y, Y))\n",
    "\n",
    "        self.estimators_ = [[] for _ in range(len(self.classes_))]\n",
    "        F = np.zeros(Y.shape)\n",
    "\n",
    "        for m in range(self.n_estimators):\n",
    "            for k in range(len(self.classes_)):\n",
    "                residual = Y[:, k] - self._sigmoid(F[:, k])\n",
    "                clf = clone(self.base_estimator)\n",
    "                clf.fit(X, residual)\n",
    "                update = clf.predict(X)\n",
    "                F[:, k] += self.learning_rate * update\n",
    "                self.estimators_[k].append(clf)\n",
    "\n",
    "        return self\n",
    "\n",
    "    def predict(self, X):\n",
    "        F = np.zeros((X.shape[0], len(self.classes_)))\n",
    "        for k in range(len(self.classes_)):\n",
    "            for clf in self.estimators_[k]:\n",
    "                F[:, k] += self.learning_rate * clf.predict(X)\n",
    "        return self.classes_[np.argmax(F, axis=1)]\n",
    "\n",
    "    def _sigmoid(self, x):\n",
    "        return 1 / (1 + np.exp(-x))\n",
    "    \n",
    "X, y = iris.data[:, 1:3], iris.target  # 只选取两个特征\n",
    "\n",
    "X_train, X_test, y_train, y_test = train_test_split(X, y, random_state=42)\n",
    "\n",
    "clf = MyGradientBoostClassifier(\n",
    "    base_estimator=DecisionTreeRegressor(max_depth=2),\n",
    "    n_estimators=50,\n",
    "    learning_rate=0.1\n",
    ")\n",
    "\n",
    "clf.fit(X_train, y_train)\n",
    "y_pred = clf.predict(X_test)\n",
    "\n",
    "acc = accuracy_score(y_test, y_pred)\n",
    "print(f\"自定义Gradient Boost 分类器准确率: {acc:.2f}\")"
   ]
  },
  {
   "cell_type": "markdown",
   "id": "5fc82e8d",
   "metadata": {},
   "source": [
    "## 将三种分类算法替换为相应的回归算法，并且与SKlearn做比较\n",
    "这里采用sklearn提供的糖尿病数据集进行回归拟合，测试三种算法的R2\n",
    "$$\n",
    "R^2 = 1 - \\frac{\\sum_{i=1}^{n} (y_i - \\hat{y}_i)^2}{\\sum_{i=1}^{n} (y_i - \\bar{y})^2}\n",
    "$$\n",
    "### Stacking Regression版本\n",
    "- sklearn提供的stacking回归算法的拟合结果为 **0.53**\n",
    "- 自主实现的stacking回归算法的拟合结果为 **0.54** 拟合效果稍微好一点"
   ]
  },
  {
   "cell_type": "code",
   "execution_count": 62,
   "id": "db05d6de",
   "metadata": {},
   "outputs": [
    {
     "name": "stdout",
     "output_type": "stream",
     "text": [
      "R2 score(sklearn): 0.53\n"
     ]
    }
   ],
   "source": [
    "from sklearn.linear_model import RidgeCV, LassoCV\n",
    "from sklearn.neighbors import KNeighborsRegressor\n",
    "from sklearn.ensemble import GradientBoostingRegressor\n",
    "from sklearn.ensemble import StackingRegressor\n",
    "from sklearn.metrics import r2_score\n",
    "\n",
    "estimators = [('ridge', RidgeCV()),\n",
    "              ('lasso', LassoCV(random_state=42)),\n",
    "              ('knr', KNeighborsRegressor(n_neighbors=20,metric='euclidean'))]\n",
    "final_estimator = GradientBoostingRegressor(\n",
    "    n_estimators=25, subsample=0.5, min_samples_leaf=25, max_features=1,\n",
    "    random_state=42)\n",
    "reg = StackingRegressor(\n",
    "    estimators=estimators,\n",
    "    final_estimator=final_estimator)\n",
    "\n",
    "from sklearn.datasets import load_diabetes\n",
    "X, y = load_diabetes(return_X_y=True)\n",
    "from sklearn.model_selection import train_test_split\n",
    "X_train, X_test, y_train, y_test = train_test_split(X, y,random_state=42)\n",
    "reg.fit(X_train, y_train)\n",
    "y_pred = reg.predict(X_test)\n",
    "\n",
    "print('R2 score(sklearn): {:.2f}'.format(r2_score(y_test, y_pred)))"
   ]
  },
  {
   "cell_type": "code",
   "execution_count": 63,
   "id": "fda1b47a",
   "metadata": {},
   "outputs": [
    {
     "name": "stdout",
     "output_type": "stream",
     "text": [
      "R2 score(MyStacking): 0.54\n"
     ]
    }
   ],
   "source": [
    "class MyStackingRegressor(BaseEstimator, RegressorMixin):\n",
    "    def __init__(self, estimators, final_estimator):\n",
    "        self.estimators = estimators\n",
    "        self.final_estimator = final_estimator\n",
    "\n",
    "    def fit(self, X, y):\n",
    "        self.base_models_ = [clone(est) for _, est in self.estimators]\n",
    "        self.final_model_ = clone(self.final_estimator)\n",
    "\n",
    "        base_preds = []\n",
    "        for model in self.base_models_:\n",
    "            model.fit(X, y)\n",
    "            pred = model.predict(X).reshape(-1, 1)\n",
    "            base_preds.append(pred)\n",
    "\n",
    "        meta_X = np.hstack(base_preds)\n",
    "        self.final_model_.fit(meta_X, y)\n",
    "        return self\n",
    "\n",
    "    def predict(self, X):\n",
    "        base_preds = [model.predict(X).reshape(-1, 1) for model in self.base_models_]\n",
    "        meta_X = np.hstack(base_preds)\n",
    "        return self.final_model_.predict(meta_X)\n",
    "    \n",
    "estimators = [('ridge', RidgeCV()),\n",
    "              ('lasso', LassoCV(random_state=42)),\n",
    "              ('knr', KNeighborsRegressor(n_neighbors=20, metric='euclidean'))]\n",
    "\n",
    "final_estimator = GradientBoostingRegressor(\n",
    "    n_estimators=25, subsample=0.5, min_samples_leaf=25, max_features=1,\n",
    "    random_state=42)\n",
    "\n",
    "X, y = load_diabetes(return_X_y=True)\n",
    "X_train, X_test, y_train, y_test = train_test_split(X, y, random_state=42)\n",
    "\n",
    "reg = MyStackingRegressor(estimators=estimators, final_estimator=final_estimator)\n",
    "reg.fit(X_train, y_train)\n",
    "y_pred = reg.predict(X_test)\n",
    "\n",
    "print('R2 score(MyStacking): {:.2f}'.format(r2_score(y_test, y_pred)))"
   ]
  },
  {
   "cell_type": "markdown",
   "id": "9c6b1f05",
   "metadata": {},
   "source": [
    "### Bagging Regression\n",
    "- sklearn提供的Bagging回归算法的拟合结果为 **0.49**\n",
    "- 自主实现的Bagging回归算法的拟合结果为 **0.49** 拟合效果稍微好一点"
   ]
  },
  {
   "cell_type": "code",
   "execution_count": 64,
   "id": "4abe74fa",
   "metadata": {},
   "outputs": [
    {
     "name": "stdout",
     "output_type": "stream",
     "text": [
      "R2 score(sklearn Bagging): 0.49\n",
      "R2 score(custom Bagging): 0.49\n"
     ]
    }
   ],
   "source": [
    "from sklearn.ensemble import BaggingRegressor\n",
    "\n",
    "X, y = load_diabetes(return_X_y=True)\n",
    "X_train, X_test, y_train, y_test = train_test_split(X, y, random_state=42)\n",
    "\n",
    "reg = BaggingRegressor(\n",
    "    estimator=RidgeCV(),\n",
    "    n_estimators=10,\n",
    "    bootstrap=True,\n",
    "    random_state=42)\n",
    "reg.fit(X_train, y_train)\n",
    "y_pred = reg.predict(X_test)\n",
    "\n",
    "print('R2 score(sklearn Bagging): {:.2f}'.format(r2_score(y_test, y_pred)))\n",
    "\n",
    "class MyBaggingRegressor(BaseEstimator, RegressorMixin):\n",
    "    def __init__(self, base_estimator, n_estimators=10, bootstrap=True, random_state=None):\n",
    "        self.base_estimator = base_estimator\n",
    "        self.n_estimators = n_estimators\n",
    "        self.bootstrap = bootstrap\n",
    "        self.random_state = random_state\n",
    "\n",
    "    def fit(self, X, y):\n",
    "        self.models_ = []\n",
    "        rng = np.random.RandomState(self.random_state)\n",
    "\n",
    "        n_samples = X.shape[0]\n",
    "\n",
    "        for i in range(self.n_estimators):\n",
    "            model = clone(self.base_estimator)\n",
    "            if self.bootstrap:\n",
    "                indices = rng.choice(n_samples, n_samples, replace=True)\n",
    "            else:\n",
    "                indices = np.arange(n_samples)\n",
    "\n",
    "            X_sample = X[indices]\n",
    "            y_sample = y[indices]\n",
    "            model.fit(X_sample, y_sample)\n",
    "            self.models_.append(model)\n",
    "\n",
    "        return self\n",
    "\n",
    "    def predict(self, X):\n",
    "        predictions = np.array([model.predict(X) for model in self.models_])\n",
    "        return np.mean(predictions, axis=0)\n",
    "    \n",
    "reg = MyBaggingRegressor(\n",
    "    base_estimator=RidgeCV(),\n",
    "    n_estimators=10,\n",
    "    bootstrap=True,\n",
    "    random_state=42)\n",
    "reg.fit(X_train, y_train)\n",
    "y_pred_2 = reg.predict(X_test)\n",
    "\n",
    "print('R2 score(custom Bagging): {:.2f}'.format(r2_score(y_test, y_pred_2)))"
   ]
  },
  {
   "cell_type": "markdown",
   "id": "de8a1e7e",
   "metadata": {},
   "source": [
    "### AdaBoosting Regression\n",
    "- sklearn提供的AdaBoosting回归算法的拟合结果为 **0.46**\n",
    "- 自主实现的AdaBoosting回归算法的拟合结果为 **0.46** 拟合效果稍微好一点"
   ]
  },
  {
   "cell_type": "code",
   "execution_count": 65,
   "id": "4c4ad45a",
   "metadata": {},
   "outputs": [
    {
     "name": "stdout",
     "output_type": "stream",
     "text": [
      "R2 score(sklearn AdaBoost): 0.46\n",
      "R2 score(custom AdaBoost): 0.46\n"
     ]
    }
   ],
   "source": [
    "from sklearn.ensemble import AdaBoostRegressor\n",
    "\n",
    "reg = AdaBoostRegressor(\n",
    "    estimator=DecisionTreeRegressor(max_depth=4),\n",
    "    n_estimators=50,\n",
    "    learning_rate=0.5,\n",
    "    random_state=42\n",
    ")\n",
    "reg.fit(X_train, y_train)\n",
    "y_pred = reg.predict(X_test)\n",
    "\n",
    "print('R2 score(sklearn AdaBoost): {:.2f}'.format(r2_score(y_test, y_pred)))\n",
    "\n",
    "class MyAdaBoostRegressor(BaseEstimator, RegressorMixin):\n",
    "    def __init__(self, base_estimator, n_estimators=50, learning_rate=1.0, random_state=None):\n",
    "        self.base_estimator = base_estimator\n",
    "        self.n_estimators = n_estimators\n",
    "        self.learning_rate = learning_rate\n",
    "        self.random_state = random_state\n",
    "\n",
    "    def fit(self, X, y):\n",
    "        self.models_ = []\n",
    "        self.model_weights_ = []\n",
    "\n",
    "        n_samples = X.shape[0]\n",
    "        rng = np.random.RandomState(self.random_state)\n",
    "\n",
    "        sample_weights = np.ones(n_samples) / n_samples\n",
    "\n",
    "        for i in range(self.n_estimators):\n",
    "            model = clone(self.base_estimator)\n",
    "            model.fit(X, y, sample_weight=sample_weights)\n",
    "\n",
    "            y_pred = model.predict(X)\n",
    "            error = np.average((y - y_pred) ** 2, weights=sample_weights)\n",
    "\n",
    "            error = max(error, 1e-10)\n",
    "            if error >= 0.5:\n",
    "                continue\n",
    "            model_weight = self.learning_rate * 0.5 * np.log((1 - error) / error)\n",
    "            self.models_.append(model)\n",
    "            self.model_weights_.append(model_weight)\n",
    "\n",
    "            sample_weights *= np.exp(model_weight * np.abs(y - y_pred))\n",
    "            sample_weights /= np.sum(sample_weights)\n",
    "\n",
    "        return self\n",
    "\n",
    "    def predict(self, X):\n",
    "        final_pred = np.zeros(X.shape[0])\n",
    "        total_weight = np.sum(self.model_weights_)\n",
    "        for model, weight in zip(self.models_, self.model_weights_):\n",
    "            final_pred += weight * model.predict(X)\n",
    "        return final_pred / total_weight if total_weight != 0 else final_pred\n",
    "\n",
    "reg_2 = MyAdaBoostRegressor(\n",
    "    base_estimator=DecisionTreeRegressor(max_depth=4),\n",
    "    n_estimators=50,\n",
    "    learning_rate=0.5,\n",
    "    random_state=42\n",
    ")\n",
    "reg_2.fit(X_train, y_train)\n",
    "y_pred_2 = reg.predict(X_test)\n",
    "\n",
    "print('R2 score(custom AdaBoost): {:.2f}'.format(r2_score(y_test, y_pred_2)))"
   ]
  }
 ],
 "metadata": {
  "kernelspec": {
   "display_name": "Python 3",
   "language": "python",
   "name": "python3"
  },
  "language_info": {
   "codemirror_mode": {
    "name": "ipython",
    "version": 3
   },
   "file_extension": ".py",
   "mimetype": "text/x-python",
   "name": "python",
   "nbconvert_exporter": "python",
   "pygments_lexer": "ipython3",
   "version": "3.12.4"
  }
 },
 "nbformat": 4,
 "nbformat_minor": 5
}
